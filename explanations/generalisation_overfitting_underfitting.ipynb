{
 "cells": [
  {
   "cell_type": "markdown",
   "metadata": {},
   "source": [
    "# Generalisation\n",
    "\n",
    "The purpose of supervised learning is that we build a model on training data, and can apply it to make accurate predictions on unseen data.\n",
    "\n",
    "This is the ability to generalise from the training set to the test set. And the model needs to built to generalise as accurately as possible.\n",
    "\n",
    "We neither want to overfit or underfit the model.\n",
    "\n",
    "## Overfitting\n",
    "\n",
    "Overfitting, is the idea that we've built a model that is overly complex, and if the dataset is too small it could lead to overfitting.\n",
    "\n",
    "For a small dataset an overly complex model might lead to overfitting. If the dataset size is large and has a variety of data points, a complex model can be used without overfitting.\n",
    "\n",
    "### Caution!\n",
    "It should be noted that similar or exactly the same data will not help with the size of data, and won't affect the overfitting issues.\n",
    "\n",
    "## Underfitting\n",
    "\n",
    "Underfitting is when the model is too simple. For instance \"Every millionaire buys a mansion\" is too simple and doesn't account for variability in the data.\n",
    "\n",
    "## The goldilocks model\n",
    "\n",
    "Ideally the model shouldn't be too complex neither should it be too simple. It should be complex enough to make predictions on the training data.\n",
    "\n",
    "The best generalisation performance will come from being \"just right\".\n",
    "\n",
    "It's important to take into account the dataset size as well."
   ]
  }
 ],
 "metadata": {
  "kernelspec": {
   "display_name": "Python 3",
   "language": "python",
   "name": "python3"
  },
  "language_info": {
   "codemirror_mode": {
    "name": "ipython",
    "version": 3
   },
   "file_extension": ".py",
   "mimetype": "text/x-python",
   "name": "python",
   "nbconvert_exporter": "python",
   "pygments_lexer": "ipython3",
   "version": "3.6.4"
  }
 },
 "nbformat": 4,
 "nbformat_minor": 2
}

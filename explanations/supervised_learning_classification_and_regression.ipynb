{
 "cells": [
  {
   "cell_type": "markdown",
   "metadata": {},
   "source": [
    "# Supervised learning types\n",
    "\n",
    "There are two main types of supervised machine learning problems, classification and regression.\n",
    "\n",
    "## Classification\n",
    "\n",
    "The ultimate end goal of classifical is the class label, which is from the an already described list of possibilities.\n",
    "\n",
    "They are further separated into either a binary classification which between two classes, or multiclass classification.\n",
    "\n",
    "### Binary classification\n",
    "\n",
    "In the case of emails.\n",
    "\n",
    "* spam\n",
    "* not spam\n",
    "\n",
    "It is worth noting that the binary classification are made up of the 'positive' or 'negative'  class. It's subjective to which one is actually relevant. In the above a 'positive' could be spam, because you've successfully caught spam.\n",
    "\n",
    "### Multiclass classification\n",
    "\n",
    "Where in more than two classifications are identified. For instance, for classifying injuries, you may choose classifications as.\n",
    "\n",
    "* most severe\n",
    "* severe\n",
    "* least severe\n",
    "\n",
    "## Regression\n",
    "\n",
    "In regression we are looking to predict a continuous number (floating point number). For instance taking education, age and the area they live could give you an idea of how much money a person makes.\n",
    "\n",
    "A regression problem related to if there is a continuity in the outcomes. For instance, it doesn't matter if someone makes £25,000 or £24,999 it's about the same. If the prediction sits between £24,998 and £25,001 it's reasonably accurate.\n",
    "\n",
    "## What to use\n",
    "\n",
    "Classification is slightly more absolute, in the instance of a binary classification, it's either spam, or it's not spam and we want to categorise the samples as such.\n",
    "\n",
    "Whereas regression should be used where it's likely that the outcome could be \n"
   ]
  },
  {
   "cell_type": "code",
   "execution_count": null,
   "metadata": {},
   "outputs": [],
   "source": []
  }
 ],
 "metadata": {
  "kernelspec": {
   "display_name": "Python 3",
   "language": "python",
   "name": "python3"
  },
  "language_info": {
   "codemirror_mode": {
    "name": "ipython",
    "version": 3
   },
   "file_extension": ".py",
   "mimetype": "text/x-python",
   "name": "python",
   "nbconvert_exporter": "python",
   "pygments_lexer": "ipython3",
   "version": "3.6.4"
  }
 },
 "nbformat": 4,
 "nbformat_minor": 2
}
